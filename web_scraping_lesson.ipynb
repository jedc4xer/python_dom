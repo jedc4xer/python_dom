{
 "cells": [
  {
   "cell_type": "code",
   "execution_count": 6,
   "id": "1fac922c-bdf0-41a4-8204-3b9ece4e6b16",
   "metadata": {},
   "outputs": [],
   "source": [
    "import requests\n",
    "from bs4 import BeautifulSoup\n",
    "\n",
    "path = 'https://www.countrycode.org'"
   ]
  },
  {
   "cell_type": "code",
   "execution_count": 12,
   "id": "ab5a84b9-ea5d-4854-ab52-25ca8c86be9d",
   "metadata": {},
   "outputs": [],
   "source": [
    "soup = BeautifulSoup(requests.get(path).text,'html.parser')\n"
   ]
  },
  {
   "cell_type": "code",
   "execution_count": 13,
   "id": "be57bda7-9b9a-4cf1-8bc6-d8efd38b4900",
   "metadata": {},
   "outputs": [],
   "source": [
    "table = soup.find('table',attrs = {'class':'main-table'})"
   ]
  },
  {
   "cell_type": "code",
   "execution_count": 16,
   "id": "a8d09252-6dfe-4d99-a67d-46bb104b6aec",
   "metadata": {},
   "outputs": [],
   "source": [
    "countries = []\n",
    "\n",
    "for row in table.find_all_next('tr'):\n",
    "    cells = row.find_all_next('td')\n",
    "    country = {}\n",
    "    country['name'] = cells[0].string    \n",
    "    countrycodes = cells[2].string\n",
    "    country['iso-2'] = countrycodes.split('/')[0]\n",
    "    country['iso-3'] = countrycodes.split('/')[1]\n",
    "    countries.append(country)"
   ]
  }
 ],
 "metadata": {
  "kernelspec": {
   "display_name": "Python 3 (ipykernel)",
   "language": "python",
   "name": "python3"
  },
  "language_info": {
   "codemirror_mode": {
    "name": "ipython",
    "version": 3
   },
   "file_extension": ".py",
   "mimetype": "text/x-python",
   "name": "python",
   "nbconvert_exporter": "python",
   "pygments_lexer": "ipython3",
   "version": "3.9.7"
  }
 },
 "nbformat": 4,
 "nbformat_minor": 5
}
