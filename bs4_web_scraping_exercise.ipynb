{
 "cells": [
  {
   "cell_type": "markdown",
   "id": "a9699ec1-8d19-4cec-856c-525cc357f0d2",
   "metadata": {},
   "source": [
    "# Exercise: Web Scraping with Beautiful Soup\n",
    "*****\n",
    "# Part 1\n",
    "### Gather Book Prices and Ratings"
   ]
  },
  {
   "cell_type": "code",
   "execution_count": 6,
   "id": "230272f2-6a1f-4a2c-9a55-034f83513206",
   "metadata": {},
   "outputs": [
    {
     "name": "stdout",
     "output_type": "stream",
     "text": [
      " Getting Books...\n",
      "1000 books collected\n",
      "\n",
      " Data Example\n",
      "{'title': 'A Light in the Attic', 'price': '£51.77', 'rating': 'Three', 'status': 'In stock'}\n"
     ]
    }
   ],
   "source": [
    "from bs4 import BeautifulSoup\n",
    "import requests\n",
    "\n",
    "site = 'http://books.toscrape.com/'\n",
    "page = \"\"\n",
    "\n",
    "def get_page(path):\n",
    "    page_text = requests.get(path).text\n",
    "    soup = BeautifulSoup(page_text, 'html.parser')\n",
    "    return soup\n",
    "\n",
    "def get_products(soup):\n",
    "    products = soup.find_all(attrs = {'class': 'product_pod'})\n",
    "    return products\n",
    "\n",
    "print(\" Getting Books...\")\n",
    "books = []\n",
    "passed = False\n",
    "while not passed:\n",
    "    url = site + page\n",
    "    soup = get_page(url)\n",
    "    products = get_products(soup)\n",
    "    \n",
    "    for item in products:\n",
    "        rating = item.find(attrs = {'class':'star-rating'}).attrs['class'][1]\n",
    "        title = item.find_all('a')[1].get('title')\n",
    "        price = item.find(attrs = {'class':'price_color'}).text[1:]\n",
    "        status = item.find(attrs = {'class':'instock availability'}).text.split('\\n')[3].strip()\n",
    "\n",
    "        book = {\n",
    "            'title': title,\n",
    "            'price': price,\n",
    "            'rating': rating,\n",
    "            'status': status\n",
    "        }\n",
    "\n",
    "        books.append(book)\n",
    "\n",
    "    try:\n",
    "        next_page_link = soup.find_all('a')\n",
    "        if next_page_link[-1].text == 'previous':\n",
    "            passed = True\n",
    "        next_page_link = next_page_link[-1].get('href')\n",
    "        if 'catalogue/' not in next_page_link:\n",
    "            next_page_link = 'catalogue/' + next_page_link\n",
    "    except:\n",
    "        next_page_link = None\n",
    "    \n",
    "    page = next_page_link\n",
    "    if next_page_link is None:\n",
    "        passed = True\n",
    "    \n",
    "print(len(books), 'books collected')\n",
    "print('\\n Data Example')\n",
    "print(books[0])"
   ]
  },
  {
   "cell_type": "markdown",
   "id": "71da740f-45fd-4c18-ab92-9dae7dada687",
   "metadata": {},
   "source": [
    "### Export Data to a CSV"
   ]
  },
  {
   "cell_type": "code",
   "execution_count": 32,
   "id": "07776926-e8a3-40c3-b620-7982c65f985d",
   "metadata": {},
   "outputs": [],
   "source": [
    "import csv\n",
    "\n",
    "columns = ['title','price','rating','status']\n",
    "with open('book_list.csv','w', encoding = 'utf-8') as file:\n",
    "    csvwriter = csv.writer(file)\n",
    "    csvwriter.writerow(columns)\n",
    "    for book in books:\n",
    "        book_items = [book[key] for key in book.keys()]\n",
    "        csvwriter.writerow(book_items)\n",
    "file.close()\n"
   ]
  },
  {
   "cell_type": "code",
   "execution_count": null,
   "id": "ab81dc9d-f661-4bed-965a-696865f47338",
   "metadata": {},
   "outputs": [],
   "source": []
  }
 ],
 "metadata": {
  "kernelspec": {
   "display_name": "Python 3 (ipykernel)",
   "language": "python",
   "name": "python3"
  },
  "language_info": {
   "codemirror_mode": {
    "name": "ipython",
    "version": 3
   },
   "file_extension": ".py",
   "mimetype": "text/x-python",
   "name": "python",
   "nbconvert_exporter": "python",
   "pygments_lexer": "ipython3",
   "version": "3.9.7"
  }
 },
 "nbformat": 4,
 "nbformat_minor": 5
}
