{
 "cells": [
  {
   "cell_type": "markdown",
   "id": "a9699ec1-8d19-4cec-856c-525cc357f0d2",
   "metadata": {},
   "source": [
    "# Exercise: Web Scraping with Beautiful Soup\n",
    "*****\n",
    "# Part 1\n",
    "### Gather Book Prices and Ratings"
   ]
  },
  {
   "cell_type": "code",
   "execution_count": 1,
   "id": "230272f2-6a1f-4a2c-9a55-034f83513206",
   "metadata": {},
   "outputs": [
    {
     "name": "stdout",
     "output_type": "stream",
     "text": [
      " Getting Books...\n",
      "1000 books collected\n",
      "\n",
      " Data Example\n",
      "{'title': 'A Light in the Attic', 'price': '£51.77', 'rating': 'Three', 'status': 'In stock'}\n"
     ]
    }
   ],
   "source": [
    "from bs4 import BeautifulSoup\n",
    "import requests\n",
    "\n",
    "site = 'http://books.toscrape.com/'\n",
    "page = \"\"\n",
    "\n",
    "failed_sites = []\n",
    "\n",
    "def get_page(path):\n",
    "    page_text = requests.get(path).text\n",
    "    soup = BeautifulSoup(page_text, 'html.parser')\n",
    "    return soup\n",
    "\n",
    "def get_products(soup):\n",
    "    products = soup.find_all(attrs = {'class': 'product_pod'})\n",
    "    return products\n",
    "\n",
    "print(\" Getting Books...\")\n",
    "books = []\n",
    "passed = False\n",
    "while not passed:\n",
    "    url = site + page\n",
    "    \n",
    "    try: \n",
    "        soup = get_page(url)\n",
    "    except:\n",
    "        failed_sites.append(url)\n",
    "        print(url,'failed')\n",
    "        continue\n",
    "        \n",
    "    products = get_products(soup)\n",
    "    \n",
    "    for item in products:\n",
    "        rating = item.find(attrs = {'class':'star-rating'}).attrs['class'][1]\n",
    "        title = item.find_all('a')[1].get('title')\n",
    "        price = item.find(attrs = {'class':'price_color'}).text[1:]\n",
    "        status = item.find(attrs = {'class':'instock availability'}).text.split('\\n')[3].strip()\n",
    "\n",
    "        book = {\n",
    "            'title': title,\n",
    "            'price': price,\n",
    "            'rating': rating,\n",
    "            'status': status\n",
    "        }\n",
    "\n",
    "        books.append(book)\n",
    "\n",
    "    try:\n",
    "        next_page_link = soup.find_all('a')\n",
    "        if next_page_link[-1].text == 'previous':\n",
    "            passed = True\n",
    "        next_page_link = next_page_link[-1].get('href')\n",
    "        if 'catalogue/' not in next_page_link:\n",
    "            next_page_link = 'catalogue/' + next_page_link\n",
    "    except:\n",
    "        next_page_link = None\n",
    "    \n",
    "    page = next_page_link\n",
    "    if next_page_link is None:\n",
    "        passed = True\n",
    "    \n",
    "print(len(books), 'books collected')\n",
    "print('\\n Data Example')\n",
    "print(books[0])"
   ]
  },
  {
   "cell_type": "markdown",
   "id": "71da740f-45fd-4c18-ab92-9dae7dada687",
   "metadata": {},
   "source": [
    "### Export Data to a CSV"
   ]
  },
  {
   "cell_type": "code",
   "execution_count": 2,
   "id": "07776926-e8a3-40c3-b620-7982c65f985d",
   "metadata": {},
   "outputs": [],
   "source": [
    "import csv\n",
    "\n",
    "columns = ['title','price','rating','status']\n",
    "with open('book_list.csv','w', encoding = 'utf-8') as file:\n",
    "    csvwriter = csv.writer(file)\n",
    "    csvwriter.writerow(columns)\n",
    "    for book in books:\n",
    "        book_items = [book[key] for key in book.keys()]\n",
    "        csvwriter.writerow(book_items)\n",
    "file.close()\n"
   ]
  },
  {
   "cell_type": "markdown",
   "id": "bb0551cd-5e7b-44f9-88ad-ab464e6c70af",
   "metadata": {},
   "source": [
    "## Part 3: Splinter Stretch Goal\n",
    " - What is Splinter and what does it do differently than the requests module?\n",
    "   - Splinter is an automation tool that uses webbrowsers to interact with the pages you visit\n",
    " - Why is requests module insufficient for some modern websites?\n",
    "   - An increased use of Javascript in websites means that a standard http request using requests would return an incomplete result<br>\n",
    "       as it would return the html before the javascript has finished loading it, and elements of the html may change through javascript\n",
    "       interactions.\n",
    " - What happens if you turn Javascript off in the browser?\n",
    "   - Many websites stop working, or you get an extremely simplified user experience.\n",
    "   \n",
    "   "
   ]
  },
  {
   "cell_type": "markdown",
   "id": "c8e7afeb-d285-468f-bf6a-b6a2faab7e94",
   "metadata": {},
   "source": [
    "## Part 4: Splinter Stretch Coding Goal"
   ]
  },
  {
   "cell_type": "code",
   "execution_count": 3,
   "id": "0ddcdce6-d466-4d66-970d-844dc9baf98d",
   "metadata": {},
   "outputs": [
    {
     "name": "stderr",
     "output_type": "stream",
     "text": [
      "C:\\Users\\Work\\anaconda3\\lib\\site-packages\\selenium\\webdriver\\remote\\webelement.py:359: UserWarning: find_elements_by_* commands are deprecated. Please use find_elements() instead\n",
      "  warnings.warn(\"find_elements_by_* commands are deprecated. Please use find_elements() instead\")\n"
     ]
    }
   ],
   "source": [
    "from splinter import Browser\n",
    "import time\n",
    "\n",
    "executable_path = {'executable_path':'C:\\webdrivers\\chromedriver.exe'}\n",
    "browser = Browser('chrome', **executable_path)\n",
    "\n",
    "# Setting a delay on page access to reduce chance of errors\n",
    "time.sleep(2)\n",
    "browser.visit('https://www.nasa.gov/')\n",
    "\n",
    "# Setting a delay on data access to allow page to load\n",
    "time.sleep(2)\n",
    "first_event = browser.find_by_tag('div[class=\"title\"]')\n",
    "\n",
    "events = []\n",
    "for event in first_event:\n",
    "    link = event.find_by_tag('a')[\"href\"]\n",
    "    nasa_events = [link]\n",
    "    nasa_events = nasa_events + [_.strip() for _ in event.text.split(\",\")]\n",
    "    events.append(nasa_events)\n",
    "\n",
    "columns = ['link','weekday','date','event']\n",
    "with open('nasa_events.csv','w', encoding = 'utf-8') as file:\n",
    "    csvwriter = csv.writer(file)\n",
    "    csvwriter.writerow(columns)\n",
    "    for event in events:\n",
    "        csvwriter.writerow(event)\n",
    "file.close()"
   ]
  }
 ],
 "metadata": {
  "kernelspec": {
   "display_name": "Python 3 (ipykernel)",
   "language": "python",
   "name": "python3"
  },
  "language_info": {
   "codemirror_mode": {
    "name": "ipython",
    "version": 3
   },
   "file_extension": ".py",
   "mimetype": "text/x-python",
   "name": "python",
   "nbconvert_exporter": "python",
   "pygments_lexer": "ipython3",
   "version": "3.9.7"
  }
 },
 "nbformat": 4,
 "nbformat_minor": 5
}
