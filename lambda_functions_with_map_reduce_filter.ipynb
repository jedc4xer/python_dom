{
 "cells": [
  {
   "cell_type": "markdown",
   "id": "d65e6004-a924-48a2-9bce-7aa78da84ac8",
   "metadata": {},
   "source": [
    "## Part 1 - Model the Detroit Police Population\n",
    "#### Read in data from Detroit Police Reports file"
   ]
  },
  {
   "cell_type": "code",
   "execution_count": 1,
   "id": "1b1a306a-d541-443c-bdf5-cffaeacb48a6",
   "metadata": {},
   "outputs": [],
   "source": [
    "import requests\n",
    "import csv\n",
    "import string\n",
    "\n",
    "path = 'https://opendata.arcgis.com/api/v3/datasets/4f49eb825f564efa9a23cd103c4ba13b_0/downloads/data?format=csv&spatialRefId=4326'\n",
    "data = requests.get(path)\n",
    "\n",
    "lines = data.text.splitlines()\n",
    "\n",
    "reader = csv.reader(lines)"
   ]
  },
  {
   "cell_type": "markdown",
   "id": "6c8b9b90-d32f-4d1a-9c4c-e709ef1eeb57",
   "metadata": {},
   "source": [
    "#### Convert to List of Dictionaries"
   ]
  },
  {
   "cell_type": "code",
   "execution_count": 2,
   "id": "307f6814-6da9-42e3-9f75-6c1cecf5ca1f",
   "metadata": {},
   "outputs": [],
   "source": [
    "columns = next(reader)\n",
    "\n",
    "new_columns = [\"\".join(_ for _ in name if _ in string.ascii_letters + \"_\").lower() for name in columns]\n",
    "\n",
    "master_list = []\n",
    "for i,row in enumerate(reader):\n",
    "    row_values = [_ for _ in row]\n",
    "    new_dict = dict(zip(new_columns,row_values))\n",
    "    master_list.append(new_dict)\n",
    "    if i > 200000:\n",
    "        break"
   ]
  },
  {
   "cell_type": "markdown",
   "id": "7101ab16-da7f-46bc-a90c-833e4a2e3b53",
   "metadata": {},
   "source": [
    "#### Filter List by Parameters"
   ]
  },
  {
   "cell_type": "code",
   "execution_count": 3,
   "id": "b819fe04-ccbd-42b4-86b7-9c60af969e5d",
   "metadata": {},
   "outputs": [
    {
     "name": "stdout",
     "output_type": "stream",
     "text": [
      "200,002 total items\n",
      "179,014 filtered items\n"
     ]
    }
   ],
   "source": [
    "print(\"{:,}\".format(len(master_list)), 'total items')\n",
    "filtered_list = list(filter(lambda x: (x['zip_code'].strip() != \"\" and x['neighborhood'].strip() != \"\"), master_list))\n",
    "print(\"{:,}\".format(len(filtered_list)), 'filtered items')"
   ]
  },
  {
   "cell_type": "markdown",
   "id": "330a808a-62ff-436e-80f7-fbddd3adb6ce",
   "metadata": {},
   "source": [
    "#### Example Output"
   ]
  },
  {
   "cell_type": "code",
   "execution_count": 4,
   "id": "14098a71-c143-41f5-a1b9-085748985022",
   "metadata": {},
   "outputs": [
    {
     "data": {
      "text/plain": [
       "{'x': '-82.986961795',\n",
       " 'y': '42.4083576620001',\n",
       " 'incident_id': '201626400002',\n",
       " 'agency': 'DPD ',\n",
       " 'incident_address': 'Promenade Ave & Roseberry St',\n",
       " 'zip_code': '48213',\n",
       " 'priority': '3',\n",
       " 'callcode': '825030',\n",
       " 'calldescription': 'DISTURBANCE',\n",
       " 'category': 'DISTURB ',\n",
       " 'call_timestamp': '2016/09/20 09:36:12+00',\n",
       " 'precinct_sca': '910A',\n",
       " 'respondingunit': '',\n",
       " 'officerinitiated': 'No',\n",
       " 'intaketime': '2.2',\n",
       " 'dispatchtime': '528.6',\n",
       " 'traveltime': '15.5',\n",
       " 'totalresponsetime': '546.6',\n",
       " 'time_on_scene': '120.5',\n",
       " 'totaltime': '667.1',\n",
       " 'neighborhood': 'Wade',\n",
       " 'block_id': '261635043003006',\n",
       " 'council_district': '4',\n",
       " 'longitude': '-82.9869617954524',\n",
       " 'latitude': '42.4083576622369',\n",
       " 'oid': '1'}"
      ]
     },
     "execution_count": 4,
     "metadata": {},
     "output_type": "execute_result"
    }
   ],
   "source": [
    "filtered_list[0]"
   ]
  },
  {
   "cell_type": "markdown",
   "id": "99bd309f-5ca8-4856-815d-60274d3b5edc",
   "metadata": {},
   "source": [
    "****\n",
    "#### Calculate Using Lambda and Reduce\n",
    " - Average Total Response Time\n",
    " - Average Dispatch Time\n",
    " - Average Total Time"
   ]
  },
  {
   "cell_type": "code",
   "execution_count": 5,
   "id": "dee2f5cf-8bf9-43ab-9524-7b8aa1dddd65",
   "metadata": {},
   "outputs": [
    {
     "name": "stdout",
     "output_type": "stream",
     "text": [
      "The average total response time is 32.19354519758174 minutes\n",
      "The average dispatch time is 26.771945210988875 minutes\n",
      "The average total time is 69.96388103723928 minutes\n"
     ]
    }
   ],
   "source": [
    "from functools import reduce\n",
    "\n",
    "average_total_response_time = reduce(\n",
    "    lambda x1, x2: x1 + (\n",
    "        float(x2['totalresponsetime'].replace(\",\",\"\").strip()\n",
    "             ) if x2['totalresponsetime'] != \"\" else 0\n",
    "    ), filtered_list, 0\n",
    ")\n",
    "\n",
    "average_dispatch_time = reduce(\n",
    "    lambda x1, x2: x1 + (\n",
    "        float(x2['dispatchtime'].replace(\",\",\"\").strip()\n",
    "             ) if x2['dispatchtime'] != \"\" else 0\n",
    "    ), filtered_list, 0\n",
    ")\n",
    "\n",
    "average_total_time = reduce(\n",
    "    lambda x1, x2: x1 + (\n",
    "        float(x2['totaltime'].replace(\",\",\"\").strip()\n",
    "             ) if x2['totaltime'] != \"\" else 0\n",
    "    ), filtered_list, 0\n",
    ")\n",
    "\n",
    "avg_response_time = average_total_response_time/len(filtered_list)\n",
    "avg_dispatch_time = average_dispatch_time/len(filtered_list)\n",
    "avg_total_time = average_total_time/len(filtered_list)\n",
    "\n",
    "print(f'The average total response time is {avg_response_time} minutes')\n",
    "print(f'The average dispatch time is {avg_dispatch_time} minutes')\n",
    "print(f'The average total time is {avg_total_time} minutes')"
   ]
  },
  {
   "cell_type": "markdown",
   "id": "6e96bd51-4130-47c1-aed9-7d0f0797b891",
   "metadata": {},
   "source": [
    "## Part 2 - Model the Neighborhood Samples\n",
    "#### Divide list of dictionaries into smaller lists of dictionaries by neighborhood\n"
   ]
  },
  {
   "cell_type": "code",
   "execution_count": 6,
   "id": "7979f32b-ed9f-4a03-88b0-e91bd4fcbb19",
   "metadata": {},
   "outputs": [
    {
     "name": "stdout",
     "output_type": "stream",
     "text": [
      "207\n"
     ]
    }
   ],
   "source": [
    "import collections\n",
    "\n",
    "# The list parameter in this call is telling the function to expect a list\n",
    "result = collections.defaultdict(list)\n",
    "\n",
    "for row in filtered_list:\n",
    "    result[row['neighborhood']].append(row)\n",
    "    \n",
    "neighborhood_separated_list = list(result.values())\n",
    "print(len(neighborhood_separated_list))"
   ]
  },
  {
   "cell_type": "markdown",
   "id": "3730ece6-dccc-42e2-a9dd-4899a85a9226",
   "metadata": {},
   "source": [
    "#### Aggregate data for each neighborhood\n",
    " - Average Total Response Time\n",
    " - Average Dispatch Time\n",
    " - Average Total Time"
   ]
  },
  {
   "cell_type": "code",
   "execution_count": 7,
   "id": "2637679f-3813-4f2b-b275-46b0bd21d1b9",
   "metadata": {},
   "outputs": [
    {
     "data": {
      "text/plain": [
       "[{'Wade': {'Average Total Response Time': 44.901331114808656,\n",
       "   'Average Dispatch Time': 39.533111480865216,\n",
       "   'Average Total Time': 85.58569051580695}},\n",
       " {'Tri-Point': {'Average Total Response Time': 20.570000000000004,\n",
       "   'Average Dispatch Time': 14.546363636363633,\n",
       "   'Average Total Time': 51.71636363636361}},\n",
       " {'Oak Grove': {'Average Total Response Time': 32.408713692946066,\n",
       "   'Average Dispatch Time': 26.978008298755164,\n",
       "   'Average Total Time': 67.89142461964032}},\n",
       " {'We Care Community': {'Average Total Response Time': 33.69770270270268,\n",
       "   'Average Dispatch Time': 27.86405405405405,\n",
       "   'Average Total Time': 65.2475675675675}}]"
      ]
     },
     "execution_count": 7,
     "metadata": {},
     "output_type": "execute_result"
    }
   ],
   "source": [
    "end_keys = {\n",
    "    'totalresponsetime': 'Average Total Response Time',\n",
    "    'dispatchtime': 'Average Dispatch Time',\n",
    "    'totaltime': 'Average Total Time'}\n",
    "\n",
    "neighborhood_data = []\n",
    "for neighborhood in neighborhood_separated_list:\n",
    "    neighborhood_result = {}\n",
    "    for target in end_keys.keys():\n",
    "        new_key = end_keys[target]\n",
    "        target_val = reduce(lambda x1, x2: x1 + (float(x2[target].replace(\",\",\"\")) if x2[target] != '' else 0), neighborhood, 0)\n",
    "        target_avg = target_val/len(neighborhood)\n",
    "        neighborhood_result[new_key] = target_avg\n",
    "    neighborhood_dict = {neighborhood[0]['neighborhood']: neighborhood_result}\n",
    "    neighborhood_data.append(neighborhood_dict)\n",
    "    \n",
    "neighborhood_data[:4]    "
   ]
  },
  {
   "cell_type": "markdown",
   "id": "588859f7-2ff9-4dfa-9ad1-26d80e08228d",
   "metadata": {},
   "source": [
    "#### Add a dictionary item to include population of Detroit in combined list"
   ]
  },
  {
   "cell_type": "code",
   "execution_count": 8,
   "id": "1c0b0d0d-22df-4f5d-8328-770c75dde1f7",
   "metadata": {},
   "outputs": [
    {
     "data": {
      "text/plain": [
       "[{'Population of Detroit': 674841},\n",
       " {'Wade': {'Average Total Response Time': 44.901331114808656,\n",
       "   'Average Dispatch Time': 39.533111480865216,\n",
       "   'Average Total Time': 85.58569051580695}},\n",
       " {'Tri-Point': {'Average Total Response Time': 20.570000000000004,\n",
       "   'Average Dispatch Time': 14.546363636363633,\n",
       "   'Average Total Time': 51.71636363636361}},\n",
       " {'Oak Grove': {'Average Total Response Time': 32.408713692946066,\n",
       "   'Average Dispatch Time': 26.978008298755164,\n",
       "   'Average Total Time': 67.89142461964032}}]"
      ]
     },
     "execution_count": 8,
     "metadata": {},
     "output_type": "execute_result"
    }
   ],
   "source": [
    "neighborhood_data.insert(0,{\"Population of Detroit\": 674841})\n",
    "neighborhood_data[:4]"
   ]
  },
  {
   "cell_type": "markdown",
   "id": "e7f7fb66-7545-4b23-8d51-6924f36030d6",
   "metadata": {},
   "source": [
    "## Part 3 - Create an Output JSON file"
   ]
  },
  {
   "cell_type": "code",
   "execution_count": 9,
   "id": "490051f9-2685-4313-afa9-86da4648a69c",
   "metadata": {},
   "outputs": [],
   "source": [
    "import json\n",
    "\n",
    "neighborhood_json_file = json.dumps(neighborhood_data)\n",
    "\n",
    "with open('detroit_neighborhood_data.json', 'w') as file:\n",
    "    file.write(neighborhood_json_file)\n",
    "    file.close()"
   ]
  }
 ],
 "metadata": {
  "kernelspec": {
   "display_name": "Python 3 (ipykernel)",
   "language": "python",
   "name": "python3"
  },
  "language_info": {
   "codemirror_mode": {
    "name": "ipython",
    "version": 3
   },
   "file_extension": ".py",
   "mimetype": "text/x-python",
   "name": "python",
   "nbconvert_exporter": "python",
   "pygments_lexer": "ipython3",
   "version": "3.9.7"
  }
 },
 "nbformat": 4,
 "nbformat_minor": 5
}
