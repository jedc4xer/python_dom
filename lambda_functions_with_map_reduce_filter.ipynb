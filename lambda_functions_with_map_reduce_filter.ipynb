{
 "cells": [
  {
   "cell_type": "markdown",
   "id": "d65e6004-a924-48a2-9bce-7aa78da84ac8",
   "metadata": {},
   "source": [
    "## Part 1 - Model the Detroit Police Population\n",
    "#### Read in data from Detroit Police Reports file"
   ]
  },
  {
   "cell_type": "code",
   "execution_count": 71,
   "id": "1b1a306a-d541-443c-bdf5-cffaeacb48a6",
   "metadata": {},
   "outputs": [],
   "source": [
    "import requests\n",
    "import csv\n",
    "import string\n",
    "\n",
    "path = 'https://opendata.arcgis.com/api/v3/datasets/4f49eb825f564efa9a23cd103c4ba13b_0/downloads/data?format=csv&spatialRefId=4326'\n",
    "data = requests.get(path)\n",
    "\n",
    "\n",
    "lines = data.text.splitlines()\n",
    "\n",
    "reader = csv.reader(lines)"
   ]
  },
  {
   "cell_type": "markdown",
   "id": "6c8b9b90-d32f-4d1a-9c4c-e709ef1eeb57",
   "metadata": {},
   "source": [
    "#### Convert to List of Dictionaries"
   ]
  },
  {
   "cell_type": "code",
   "execution_count": 71,
   "id": "307f6814-6da9-42e3-9f75-6c1cecf5ca1f",
   "metadata": {},
   "outputs": [],
   "source": [
    "columns = next(reader)\n",
    "\n",
    "new_columns = [\"\".join(_ for _ in name if _ in string.ascii_letters + \"_\").lower() for name in columns]\n",
    "\n",
    "master_list = []\n",
    "for i,row in enumerate(reader):\n",
    "    row_values = [_ for _ in row]\n",
    "    new_dict = dict(zip(new_columns,row_values))\n",
    "    master_list.append(new_dict)\n",
    "    if i > 200000:\n",
    "        break"
   ]
  },
  {
   "cell_type": "markdown",
   "id": "7101ab16-da7f-46bc-a90c-833e4a2e3b53",
   "metadata": {},
   "source": [
    "#### Filter List by Parameters"
   ]
  },
  {
   "cell_type": "code",
   "execution_count": 80,
   "id": "b819fe04-ccbd-42b4-86b7-9c60af969e5d",
   "metadata": {},
   "outputs": [
    {
     "name": "stdout",
     "output_type": "stream",
     "text": [
      "200,002 total items\n",
      "185,181 filtered items\n"
     ]
    }
   ],
   "source": [
    "print(\"{:,}\".format(len(master_list)), 'total items')\n",
    "filtered_list = list(filter(lambda x: (x['zip_code'].strip() != \"\" and x['neighborhood'].strip() != \"\"), master_list))\n",
    "print(\"{:,}\".format(len(filtered_list)), 'filtered items')"
   ]
  },
  {
   "cell_type": "markdown",
   "id": "330a808a-62ff-436e-80f7-fbddd3adb6ce",
   "metadata": {},
   "source": [
    "#### Example Output"
   ]
  },
  {
   "cell_type": "code",
   "execution_count": 103,
   "id": "14098a71-c143-41f5-a1b9-085748985022",
   "metadata": {},
   "outputs": [
    {
     "data": {
      "text/plain": [
       "{'x': '-83.195917365',\n",
       " 'y': '42.3581586660001',\n",
       " 'incident_id': '201807200330',\n",
       " 'agency': 'DPD ',\n",
       " 'incident_address': 'Prest St & Joy Rd',\n",
       " 'zip_code': '48228',\n",
       " 'priority': '3',\n",
       " 'callcode': 'SA    ',\n",
       " 'calldescription': 'SPECIAL ATTENTION',\n",
       " 'category': 'SPCL ATT',\n",
       " 'call_timestamp': '2018/03/13 07:15:09+00',\n",
       " 'precinct_sca': '0207',\n",
       " 'respondingunit': '',\n",
       " 'officerinitiated': 'Yes',\n",
       " 'intaketime': '0.0',\n",
       " 'dispatchtime': '0.0',\n",
       " 'traveltime': '0.0',\n",
       " 'totalresponsetime': '0.0',\n",
       " 'time_on_scene': '37.4',\n",
       " 'totaltime': '37.5',\n",
       " 'neighborhood': 'We Care Community',\n",
       " 'block_id': '261635354002008',\n",
       " 'council_district': '7',\n",
       " 'longitude': '-83.195917364637',\n",
       " 'latitude': '42.3581586655458',\n",
       " 'oid': '870664'}"
      ]
     },
     "execution_count": 103,
     "metadata": {},
     "output_type": "execute_result"
    }
   ],
   "source": [
    "filtered_list[0]"
   ]
  },
  {
   "cell_type": "markdown",
   "id": "99bd309f-5ca8-4856-815d-60274d3b5edc",
   "metadata": {},
   "source": [
    "****\n",
    "#### Calculate Using Lambda and Reduce\n",
    " - Average Total Response Time\n",
    " - Average Dispatch Time\n",
    " - Average Total Time"
   ]
  },
  {
   "cell_type": "code",
   "execution_count": 104,
   "id": "dee2f5cf-8bf9-43ab-9524-7b8aa1dddd65",
   "metadata": {},
   "outputs": [
    {
     "name": "stdout",
     "output_type": "stream",
     "text": [
      "The average total response time is 17.349081709246686 minutes\n",
      "The average dispatch time is 13.691253422327339 minutes\n",
      "The average total time is 48.14526490298741 minutes\n"
     ]
    }
   ],
   "source": [
    "from functools import reduce\n",
    "\n",
    "average_total_response_time = reduce(\n",
    "    lambda x1, x2: x1 + (\n",
    "        float(x2['totalresponsetime'].replace(\",\",\"\").strip()\n",
    "             ) if x2['totalresponsetime'] != \"\" else 0\n",
    "    ), filtered_list, 0\n",
    ")\n",
    "\n",
    "average_dispatch_time = reduce(\n",
    "    lambda x1, x2: x1 + (\n",
    "        float(x2['dispatchtime'].replace(\",\",\"\").strip()\n",
    "             ) if x2['dispatchtime'] != \"\" else 0\n",
    "    ), filtered_list, 0\n",
    ")\n",
    "\n",
    "average_total_time = reduce(\n",
    "    lambda x1, x2: x1 + (\n",
    "        float(x2['totaltime'].replace(\",\",\"\").strip()\n",
    "             ) if x2['totaltime'] != \"\" else 0\n",
    "    ), filtered_list, 0\n",
    ")\n",
    "\n",
    "avg_response_time = average_total_response_time/len(filtered_list)\n",
    "avg_dispatch_time = average_dispatch_time/len(filtered_list)\n",
    "avg_total_time = average_total_time/len(filtered_list)\n",
    "print(f'The average total response time is {avg_response_time} minutes')\n",
    "print(f'The average dispatch time is {avg_dispatch_time} minutes')\n",
    "print(f'The average total time is {avg_total_time} minutes')"
   ]
  },
  {
   "cell_type": "markdown",
   "id": "6e96bd51-4130-47c1-aed9-7d0f0797b891",
   "metadata": {},
   "source": [
    "## Part 2 - Model the Neighborhood Samples\n",
    "#### Divide list of dictionaries into smaller lists of dictionaries by neighborhood\n"
   ]
  },
  {
   "cell_type": "code",
   "execution_count": null,
   "id": "b19707d0-0886-4529-a869-d41e4fdcc3dd",
   "metadata": {},
   "outputs": [],
   "source": []
  },
  {
   "cell_type": "code",
   "execution_count": null,
   "id": "658e3201-bce2-4d27-a2d9-e8fbfe5fb86f",
   "metadata": {},
   "outputs": [],
   "source": []
  },
  {
   "cell_type": "code",
   "execution_count": null,
   "id": "98f64142-6cde-47a5-a7aa-8e985ab82169",
   "metadata": {},
   "outputs": [],
   "source": []
  },
  {
   "cell_type": "code",
   "execution_count": 76,
   "id": "0bf08c11-ba0b-4632-a5df-456a24fc0119",
   "metadata": {},
   "outputs": [
    {
     "name": "stdout",
     "output_type": "stream",
     "text": [
      "['ï»¿X', 'Y', 'incident_id', 'agency', 'incident_address', 'zip_code', 'priority', 'callcode', 'calldescription', 'category', 'call_timestamp', 'precinct_sca', 'respondingunit', 'officerinitiated', 'intaketime', 'dispatchtime', 'traveltime', 'totalresponsetime', 'time_on_scene', 'totaltime', 'neighborhood', 'block_id', 'council_district', 'longitude', 'latitude', 'oid']\n"
     ]
    }
   ],
   "source": [
    "print(columns)"
   ]
  },
  {
   "cell_type": "code",
   "execution_count": 84,
   "id": "2c5673cd-53c0-45e6-ae61-7d2ed55b6eed",
   "metadata": {},
   "outputs": [
    {
     "data": {
      "text/plain": [
       "0"
      ]
     },
     "execution_count": 84,
     "metadata": {},
     "output_type": "execute_result"
    }
   ],
   "source": [
    "int(0)"
   ]
  },
  {
   "cell_type": "code",
   "execution_count": null,
   "id": "21d2e183-3ffa-4e59-88fd-33c1cda9152c",
   "metadata": {},
   "outputs": [],
   "source": []
  }
 ],
 "metadata": {
  "kernelspec": {
   "display_name": "Python 3 (ipykernel)",
   "language": "python",
   "name": "python3"
  },
  "language_info": {
   "codemirror_mode": {
    "name": "ipython",
    "version": 3
   },
   "file_extension": ".py",
   "mimetype": "text/x-python",
   "name": "python",
   "nbconvert_exporter": "python",
   "pygments_lexer": "ipython3",
   "version": "3.9.7"
  }
 },
 "nbformat": 4,
 "nbformat_minor": 5
}
