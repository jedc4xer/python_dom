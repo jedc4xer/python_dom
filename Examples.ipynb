{
 "cells": [
  {
   "cell_type": "code",
   "execution_count": 4,
   "id": "a3e9f346-e87c-423e-8a56-0f2a05b72b97",
   "metadata": {},
   "outputs": [
    {
     "name": "stdout",
     "output_type": "stream",
     "text": [
      "6718465\n"
     ]
    }
   ],
   "source": [
    "\n",
    "var = lambda num1, num2, num3, num4: num1 + num2 * num3 ** num4\n",
    "\n",
    "print(var(1,4,6,8))"
   ]
  },
  {
   "cell_type": "code",
   "execution_count": 16,
   "id": "bcb8efc9-6f74-442f-8a8f-94d113e58807",
   "metadata": {},
   "outputs": [
    {
     "name": "stdout",
     "output_type": "stream",
     "text": [
      "[91, 97, 95, 94, 98, 92]\n"
     ]
    }
   ],
   "source": [
    "import random\n",
    "\n",
    "grades = random.sample(range(20,100),30)\n",
    "\n",
    "grades_over_90 = filter(lambda x: x > 90, grades)\n",
    "\n",
    "print(list(grades_over_90))"
   ]
  },
  {
   "cell_type": "code",
   "execution_count": 17,
   "id": "9db21e73-a300-491e-9781-1278b071c35a",
   "metadata": {},
   "outputs": [
    {
     "data": {
      "text/plain": [
       "[1, 4, 9, 16, 25, 36, 49, 64, 81]"
      ]
     },
     "execution_count": 17,
     "metadata": {},
     "output_type": "execute_result"
    }
   ],
   "source": [
    "numbers = range(1,10)\n",
    "squares = map(lambda x: pow(x,2), numbers)\n",
    "list(squares)"
   ]
  },
  {
   "cell_type": "code",
   "execution_count": 18,
   "id": "af0f5c6d-92be-4428-a71e-895e7d557b73",
   "metadata": {},
   "outputs": [
    {
     "name": "stdout",
     "output_type": "stream",
     "text": [
      "40.6\n"
     ]
    }
   ],
   "source": [
    "from functools import reduce\n",
    "\n",
    "forecast = [23,56,32,76,32,88,33,11,22,33]\n",
    "\n",
    "total = reduce(lambda temp1, temp2: temp1 + temp2, forecast)\n",
    "print(total/len(forecast))"
   ]
  },
  {
   "cell_type": "code",
   "execution_count": 19,
   "id": "92657987-379c-4746-97d2-45523d730ffc",
   "metadata": {},
   "outputs": [
    {
     "name": "stdout",
     "output_type": "stream",
     "text": [
      "40.6\n"
     ]
    }
   ],
   "source": [
    "alternate_total = 0\n",
    "for num in forecast:\n",
    "    alternate_total += num\n",
    "print((alternate_total/len(forecast)))"
   ]
  },
  {
   "cell_type": "code",
   "execution_count": 20,
   "id": "2b1911a3-34c2-4d34-90b7-b74af995aca7",
   "metadata": {},
   "outputs": [
    {
     "data": {
      "text/plain": [
       "11"
      ]
     },
     "execution_count": 20,
     "metadata": {},
     "output_type": "execute_result"
    }
   ],
   "source": [
    "forecast = [23,56,32,76,32,88,33,11,22,33]\n",
    "\n",
    "reduce(lambda temp1, temp2: temp1 if temp1 < temp2 else temp2, forecast)"
   ]
  },
  {
   "cell_type": "code",
   "execution_count": null,
   "id": "8a20f808-7186-40e8-a5f6-6eb1f918920d",
   "metadata": {},
   "outputs": [],
   "source": []
  }
 ],
 "metadata": {
  "kernelspec": {
   "display_name": "Python 3 (ipykernel)",
   "language": "python",
   "name": "python3"
  },
  "language_info": {
   "codemirror_mode": {
    "name": "ipython",
    "version": 3
   },
   "file_extension": ".py",
   "mimetype": "text/x-python",
   "name": "python",
   "nbconvert_exporter": "python",
   "pygments_lexer": "ipython3",
   "version": "3.9.7"
  }
 },
 "nbformat": 4,
 "nbformat_minor": 5
}
