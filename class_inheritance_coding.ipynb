{
 "cells": [
  {
   "cell_type": "markdown",
   "id": "0394a311-2380-4248-98cc-5b0e9776d38d",
   "metadata": {},
   "source": [
    "## Create Animal Class"
   ]
  },
  {
   "cell_type": "code",
   "execution_count": 1,
   "id": "a97e81a4-f596-4b07-add8-e66bfef304f3",
   "metadata": {},
   "outputs": [],
   "source": [
    "class Animal:\n",
    "    \"\"\" Animal Class \"\"\"\n",
    "    \n",
    "    def __init__(self, name, age):\n",
    "        print(\" ** Initializing Animal **\")\n",
    "        self.name = name\n",
    "        self.age = age\n",
    "        \n",
    "    def name(self):\n",
    "        return self.name\n",
    "    \n",
    "    def age(self):\n",
    "        return self.age\n",
    "    \n",
    "    def move(self):\n",
    "        print(f'{self.name} moved')\n",
    "        \n",
    "   "
   ]
  },
  {
   "cell_type": "markdown",
   "id": "26cae910-30ed-4bfd-9fba-ed8e535f10ce",
   "metadata": {},
   "source": [
    "## Create Book Class"
   ]
  },
  {
   "cell_type": "code",
   "execution_count": 2,
   "id": "f86e991e-2150-4c9d-9525-57b6cc14341f",
   "metadata": {},
   "outputs": [],
   "source": [
    "class Book:\n",
    "    \"\"\" Book Class \"\"\"\n",
    "    def __init__(self, name, cover_style, num_pages):\n",
    "        print(\" ** Initializing Book **\")\n",
    "        self.name = name\n",
    "        self.cover_style = cover_style\n",
    "        self.num_pages = num_pages\n",
    "        \n",
    "    def name(self):\n",
    "        return self.name\n",
    "    \n",
    "    def cover_style(self):\n",
    "        return self.cover_style\n",
    "    \n",
    "    def num_pages(self):\n",
    "        return self.num_pages\n",
    "    "
   ]
  },
  {
   "cell_type": "markdown",
   "id": "790980ae-38bc-40e0-b969-ae6fc6dd0dfe",
   "metadata": {},
   "source": [
    "## Create Vehicle Class"
   ]
  },
  {
   "cell_type": "code",
   "execution_count": 3,
   "id": "e1f19cd1-914a-4b97-90cf-5da194d0d7b6",
   "metadata": {},
   "outputs": [],
   "source": [
    "class Vehicle:\n",
    "    \"\"\" Vehicle Class \"\"\"\n",
    "    def __init__(self, name, make, model, year):\n",
    "        print(\" ** Initializing Vehicle **\")\n",
    "        self.name = name\n",
    "        self.make = make\n",
    "        self.model = model\n",
    "        self.year = year\n",
    "        \n",
    "    def name(self):\n",
    "        return self.name\n",
    "    \n",
    "    def make(self):\n",
    "        return self.make\n",
    "    \n",
    "    def model(self):\n",
    "        return self.model\n",
    "    \n",
    "    def year(self):\n",
    "        return self.year\n",
    "    \n",
    "    "
   ]
  },
  {
   "cell_type": "markdown",
   "id": "f8340a13-31f7-46c7-8f39-6349807c603e",
   "metadata": {},
   "source": [
    "## Create Fish SubClass"
   ]
  },
  {
   "cell_type": "code",
   "execution_count": 4,
   "id": "8989d399-2e4a-4ce2-958a-f7fb633b7641",
   "metadata": {},
   "outputs": [],
   "source": [
    "class Fish(Animal):\n",
    "    \"\"\" Fish Subclass \"\"\"\n",
    "    \n",
    "    def skin_type(self):\n",
    "        print('Scales')\n",
    "        \n",
    "    def move(self):\n",
    "        Animal.move(self)\n",
    "        print('Fish is Swimming')"
   ]
  },
  {
   "cell_type": "markdown",
   "id": "bc94c375-26a5-4ae0-b6bd-0fa1a4474578",
   "metadata": {},
   "source": [
    "## Create Snake SubClass"
   ]
  },
  {
   "cell_type": "code",
   "execution_count": 5,
   "id": "26f53748-4a50-424b-b22a-5035f692eb72",
   "metadata": {},
   "outputs": [],
   "source": [
    "class Snake(Animal):\n",
    "    \"\"\" Snake Subclass \"\"\"\n",
    "    \n",
    "    def skin_type(self):\n",
    "        print('Scutes')\n",
    "        \n",
    "    def move(self):\n",
    "        Animal.move(self)\n",
    "        print(f'{self.name} is slithering')"
   ]
  },
  {
   "cell_type": "markdown",
   "id": "cd2a43e9-cde7-4485-87ce-cda906af040b",
   "metadata": {},
   "source": [
    "## Create Car Subclass"
   ]
  },
  {
   "cell_type": "code",
   "execution_count": 6,
   "id": "d3f6f48e-a459-4167-8590-058b9005914f",
   "metadata": {},
   "outputs": [],
   "source": [
    "class Car(Vehicle):\n",
    "    \"\"\" Vehicle Subclass \"\"\"\n",
    "\n",
    "    def move(self):\n",
    "        print(f'{self.name} is driving')"
   ]
  },
  {
   "cell_type": "markdown",
   "id": "539972fd-6c4f-4007-8702-12da75d60b13",
   "metadata": {},
   "source": [
    "### Initialize Classes"
   ]
  },
  {
   "cell_type": "code",
   "execution_count": 7,
   "id": "c9fdfe90-ae28-4350-a489-2806229b4cd8",
   "metadata": {},
   "outputs": [
    {
     "name": "stdout",
     "output_type": "stream",
     "text": [
      " ** Initializing Animal **\n",
      " ** Initializing Animal **\n",
      " ** Initializing Vehicle **\n"
     ]
    }
   ],
   "source": [
    "fish = Fish('Fish',16)\n",
    "snake = Snake('Rattlesnake',19)\n",
    "toyota = Car('ToyotaCar','Toyota','Corolla',1998)"
   ]
  },
  {
   "cell_type": "markdown",
   "id": "3767af19-701a-4540-83ec-ee094f138cc5",
   "metadata": {},
   "source": [
    "#### Test Classes"
   ]
  },
  {
   "cell_type": "code",
   "execution_count": 8,
   "id": "2acb2f38-0414-45ca-b043-48319ed80b44",
   "metadata": {},
   "outputs": [
    {
     "name": "stdout",
     "output_type": "stream",
     "text": [
      " \n",
      "Fish moved\n",
      "Fish is Swimming\n",
      "Age: 16\n",
      " \n",
      "Rattlesnake moved\n",
      "Rattlesnake is slithering\n",
      "Age: 19\n",
      "\n",
      "ToyotaCar is driving\n",
      "Corolla\n"
     ]
    }
   ],
   "source": [
    "print(\" \")\n",
    "fish.move()\n",
    "print('Age:', fish.age)\n",
    "\n",
    "print(\" \")\n",
    "snake.move()\n",
    "print('Age:', snake.age)\n",
    "\n",
    "print(\"\")\n",
    "toyota.move()\n",
    "print(toyota.model)"
   ]
  }
 ],
 "metadata": {
  "kernelspec": {
   "display_name": "Python 3 (ipykernel)",
   "language": "python",
   "name": "python3"
  },
  "language_info": {
   "codemirror_mode": {
    "name": "ipython",
    "version": 3
   },
   "file_extension": ".py",
   "mimetype": "text/x-python",
   "name": "python",
   "nbconvert_exporter": "python",
   "pygments_lexer": "ipython3",
   "version": "3.9.7"
  }
 },
 "nbformat": 4,
 "nbformat_minor": 5
}
